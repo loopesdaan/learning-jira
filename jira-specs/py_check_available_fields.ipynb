{
 "cells": [
  {
   "cell_type": "code",
   "execution_count": 42,
   "metadata": {},
   "outputs": [],
   "source": [
    "# Importação das bibliotecas necessárias\n",
    "import json\n",
    "import os\n",
    "import logging\n",
    "from jira import JIRA\n",
    "from logging import config\n",
    "from datetime import datetime"
   ]
  },
  {
   "cell_type": "code",
   "execution_count": null,
   "metadata": {},
   "outputs": [],
   "source": [
    "# Função para carregar configurações do arquivo JSON\n",
    "def load_config(config_file='configs/jira_configs.json'):\n",
    "    if not os.path.exists(config_file):\n",
    "        print(f\"Arquivo de configuração '{config_file}' não encontrado. Criando arquivo com configurações padrão.\")\n",
    "        # Garantir que o diretório existe\n",
    "        os.makedirs(os.path.dirname(config_file), exist_ok=True)\n",
    "        default_config = {\n",
    "            \"JIRA_SERVER\": \"https://your_jira_server\",\n",
    "            \"JIRA_USER\": \"your_username\",\n",
    "            \"JIRA_TOKEN\": \"your_token\",\n",
    "            \"PROJECT_KEY\": \"your_project_key\",\n",
    "            \"FOLDER_LOGS\": \".\"\n",
    "        }\n",
    "        with open(config_file, 'w') as file:\n",
    "            json.dump(default_config, file, indent=4)\n",
    "        return default_config\n",
    "    try:\n",
    "        with open(config_file, 'r') as file:\n",
    "            return json.load(file)\n",
    "    except json.JSONDecodeError:\n",
    "        print(f\"Erro ao ler o arquivo de configuração '{config_file}'. Verifique o formato JSON.\")\n",
    "        raise\n",
    "\n",
    "# Carregar configurações do arquivo JSON\n",
    "config = load_config(config_file='configs/jira_configs.json')\n",
    "\n",
    "# Função para configurar logging dinamicamente\n",
    "def setup_logging(log_file_path):\n",
    "    # Cria o handler e o formatter para o logging\n",
    "    handler = logging.FileHandler(log_file_path)\n",
    "    formatter = logging.Formatter('%(asctime)s - %(levelname)s - %(message)s')\n",
    "    handler.setFormatter(formatter)\n",
    "    \n",
    "    # Configura o logger\n",
    "    logger = logging.getLogger()\n",
    "    logger.setLevel(logging.INFO)  # Nível de log\n",
    "    logger.addHandler(handler)\n",
    "    \n",
    "    return logger\n",
    "\n",
    "# Atribuição de variáveis de configuração\n",
    "JIRA_SERVER = config['JIRA_SERVER']\n",
    "JIRA_USER = config['JIRA_USER']\n",
    "JIRA_TOKEN = config['JIRA_TOKEN']\n",
    "PROJECT_KEY = config['PROJECT_KEY']\n",
    "file_path = config['FOLDER_LOGS']  # Diretório onde os arquivos de log serão salvos\n",
    "\n",
    "# Gerar nome dinâmico para o arquivo de log com timestamp\n",
    "timestamp = datetime.now().strftime('%Y-%m-%d_%H-%M-%S')\n",
    "log_dir = os.path.dirname(file_path)\n",
    "log_file_path = os.path.join(log_dir, f\"jira_check_fields_log_{timestamp}.log\")\n",
    "\n",
    "# Configuração de logging\n",
    "logger = setup_logging(log_file_path)\n",
    "logger.info(f\"Log gerado em: {datetime.now().strftime('%Y-%m-%d %H:%M:%S')}\")"
   ]
  },
  {
   "cell_type": "code",
   "execution_count": 46,
   "metadata": {},
   "outputs": [],
   "source": [
    "# Conexão com o Jira\n",
    "options = {'server': JIRA_SERVER}\n",
    "jira = JIRA(options, basic_auth=(JIRA_USER, JIRA_TOKEN))"
   ]
  },
  {
   "cell_type": "code",
   "execution_count": 40,
   "metadata": {},
   "outputs": [],
   "source": [
    "# Função para verificar e salvar os campos customizados e tipos de issue no Jira\n",
    "def check_available_fields():\n",
    "    try:\n",
    "        project = jira.project(PROJECT_KEY)\n",
    "        log_message = f\"Tipos de issue disponíveis para o projeto {PROJECT_KEY}:\"\n",
    "        #print(log_message)\n",
    "        logger.info(log_message)  # Usar o logger para registrar no arquivo de log\n",
    "\n",
    "        # Itera sobre os tipos de issue e escreve no log\n",
    "        for issue_type in project.issueTypes:\n",
    "            issue_info = f\"ID: {issue_type.id}, Name: {issue_type.name}\"\n",
    "            #print(issue_info)\n",
    "            logger.info(issue_info)  # Registra no arquivo de log\n",
    "\n",
    "        logger.info(f\"Resultado salvo em: {log_file_path}\")\n",
    "        #print(f\"Resultado salvo em: {log_file_path}\")\n",
    "\n",
    "    except Exception as e:\n",
    "        logger.error(f\"Erro ao verificar os tipos de issue: {str(e)}\")\n",
    "        #print(f\"Erro ao verificar os tipos de issue: {str(e)}\")"
   ]
  },
  {
   "cell_type": "code",
   "execution_count": 41,
   "metadata": {},
   "outputs": [],
   "source": [
    "# Chama a função para verificar os campos\n",
    "check_available_fields()"
   ]
  }
 ],
 "metadata": {
  "kernelspec": {
   "display_name": "Python 3",
   "language": "python",
   "name": "python3"
  },
  "language_info": {
   "codemirror_mode": {
    "name": "ipython",
    "version": 3
   },
   "file_extension": ".py",
   "mimetype": "text/x-python",
   "name": "python",
   "nbconvert_exporter": "python",
   "pygments_lexer": "ipython3",
   "version": "3.13.2"
  }
 },
 "nbformat": 4,
 "nbformat_minor": 2
}
