{
 "cells": [
  {
   "cell_type": "code",
   "execution_count": 3,
   "metadata": {},
   "outputs": [],
   "source": [
    "import subprocess\n",
    "import sys\n",
    "import json\n",
    "import os\n",
    "import logging\n",
    "import pandas as pd\n",
    "from jira import JIRA\n",
    "from datetime import datetime"
   ]
  },
  {
   "cell_type": "code",
   "execution_count": 1,
   "metadata": {},
   "outputs": [],
   "source": [
    "# Função para configurar logging dinamicamente\n",
    "def setup_logging(log_file_path):\n",
    "    import logging as logging_mod\n",
    "    handler = logging_mod.FileHandler(log_file_path)\n",
    "    formatter = logging_mod.Formatter('%(asctime)s - %(levelname)s - %(message)s')\n",
    "    handler.setFormatter(formatter)\n",
    "    logger = logging_mod.getLogger()\n",
    "    logger.setLevel(logging_mod.INFO)\n",
    "    logger.addHandler(handler)\n",
    "    return logger\n",
    "\n",
    "# Função para instalar pacotes automaticamente se não estiverem presentes\n",
    "def install_and_import(package):\n",
    "    try:\n",
    "        __import__(package)\n",
    "    except ImportError:\n",
    "        logging.warning(f\"Pacote '{package}' não encontrado. Instalando...\")\n",
    "        try:\n",
    "            subprocess.check_call([sys.executable, \"-m\", \"pip\", \"install\", package])\n",
    "            logging.info(f\"Pacote '{package}' instalado com sucesso!\")\n",
    "        except subprocess.CalledProcessError:\n",
    "            logging.error(f\"Erro ao tentar instalar o pacote '{package}'. Verifique a conexão ou permissões.\")\n",
    "            sys.exit(1)\n",
    "\n",
    "# Função para carregar configurações do arquivo JSON\n",
    "def load_config(config_file='jira_configs.json'):\n",
    "    try:\n",
    "        with open(config_file, 'r') as file:\n",
    "            return json.load(file)\n",
    "    except FileNotFoundError:\n",
    "        logging.error(f\"Arquivo de configuração '{config_file}' não encontrado.\")\n",
    "        sys.exit(1)\n",
    "    except json.JSONDecodeError:\n",
    "        logging.error(f\"Erro ao ler o arquivo de configuração '{config_file}'. Verifique o formato JSON.\")\n",
    "        sys.exit(1)\n",
    "\n",
    "# Instalar/importar pacotes necessários\n",
    "install_and_import('pandas')\n",
    "install_and_import('jira')\n"
   ]
  },
  {
   "cell_type": "code",
   "execution_count": null,
   "metadata": {},
   "outputs": [
    {
     "ename": "NameError",
     "evalue": "name 'os' is not defined",
     "output_type": "error",
     "traceback": [
      "\u001b[0;31m---------------------------------------------------------------------------\u001b[0m",
      "\u001b[0;31mNameError\u001b[0m                                 Traceback (most recent call last)",
      "Cell \u001b[0;32mIn[2], line 25\u001b[0m\n\u001b[1;32m     22\u001b[0m         \u001b[38;5;28;01mraise\u001b[39;00m\n\u001b[1;32m     24\u001b[0m \u001b[38;5;66;03m# Carregar configurações do arquivo JSON\u001b[39;00m\n\u001b[0;32m---> 25\u001b[0m config \u001b[38;5;241m=\u001b[39m \u001b[43mload_config\u001b[49m\u001b[43m(\u001b[49m\u001b[43mconfig_file\u001b[49m\u001b[38;5;241;43m=\u001b[39;49m\u001b[38;5;124;43m'\u001b[39;49m\u001b[38;5;124;43mconfigs/jira_configs.json\u001b[39;49m\u001b[38;5;124;43m'\u001b[39;49m\u001b[43m)\u001b[49m\n\u001b[1;32m     27\u001b[0m \u001b[38;5;66;03m# Atribuição de variáveis de configuração\u001b[39;00m\n\u001b[1;32m     28\u001b[0m JIRA_SERVER \u001b[38;5;241m=\u001b[39m config[\u001b[38;5;124m'\u001b[39m\u001b[38;5;124mJIRA_SERVER\u001b[39m\u001b[38;5;124m'\u001b[39m]\n",
      "Cell \u001b[0;32mIn[2], line 3\u001b[0m, in \u001b[0;36mload_config\u001b[0;34m(config_file)\u001b[0m\n\u001b[1;32m      2\u001b[0m \u001b[38;5;28;01mdef\u001b[39;00m \u001b[38;5;21mload_config\u001b[39m(config_file\u001b[38;5;241m=\u001b[39m\u001b[38;5;124m'\u001b[39m\u001b[38;5;124mconfigs/jira_configs.json\u001b[39m\u001b[38;5;124m'\u001b[39m):\n\u001b[0;32m----> 3\u001b[0m     \u001b[38;5;28;01mif\u001b[39;00m \u001b[38;5;129;01mnot\u001b[39;00m \u001b[43mos\u001b[49m\u001b[38;5;241m.\u001b[39mpath\u001b[38;5;241m.\u001b[39mexists(config_file):\n\u001b[1;32m      4\u001b[0m         \u001b[38;5;28mprint\u001b[39m(\u001b[38;5;124mf\u001b[39m\u001b[38;5;124m\"\u001b[39m\u001b[38;5;124mArquivo de configuração \u001b[39m\u001b[38;5;124m'\u001b[39m\u001b[38;5;132;01m{\u001b[39;00mconfig_file\u001b[38;5;132;01m}\u001b[39;00m\u001b[38;5;124m'\u001b[39m\u001b[38;5;124m não encontrado. Criando arquivo com configurações padrão.\u001b[39m\u001b[38;5;124m\"\u001b[39m)\n\u001b[1;32m      5\u001b[0m         \u001b[38;5;66;03m# Garantir que o diretório existe\u001b[39;00m\n",
      "\u001b[0;31mNameError\u001b[0m: name 'os' is not defined"
     ]
    }
   ],
   "source": [
    "# Função para carregar configurações do arquivo JSON\n",
    "def load_config(config_file='configs/jira_configs.json'):\n",
    "    if not os.path.exists(config_file):\n",
    "        print(f\"Arquivo de configuração '{config_file}' não encontrado. Criando arquivo com configurações padrão.\")\n",
    "        # Garantir que o diretório existe\n",
    "        os.makedirs(os.path.dirname(config_file), exist_ok=True)\n",
    "        default_config = {\n",
    "            \"JIRA_SERVER\": \"https://your_jira_server\",\n",
    "            \"JIRA_USER\": \"your_username\",\n",
    "            \"JIRA_TOKEN\": \"your_token\",\n",
    "            \"PROJECT_KEY\": \"your_project_key\",\n",
    "            \"FOLDER_LOGS\": \".\"\n",
    "        }\n",
    "        with open(config_file, 'w') as file:\n",
    "            json.dump(default_config, file, indent=4)\n",
    "        return default_config\n",
    "    try:\n",
    "        with open(config_file, 'r') as file:\n",
    "            return json.load(file)\n",
    "    except json.JSONDecodeError:\n",
    "        print(f\"Erro ao ler o arquivo de configuração '{config_file}'. Verifique o formato JSON.\")\n",
    "        raise\n",
    "\n",
    "# Atribuição de variáveis de configuração\n",
    "JIRA_SERVER = config['JIRA_SERVER']\n",
    "JIRA_USER = config['JIRA_USER']\n",
    "JIRA_TOKEN = config['JIRA_TOKEN']\n",
    "PROJECT_KEY = config['PROJECT_KEY']\n",
    "folder_logs_path = config['FOLDER_LOGS']\n",
    "folder_reports_path = config['FOLDER_REPORTS']"
   ]
  },
  {
   "cell_type": "code",
   "execution_count": null,
   "metadata": {},
   "outputs": [],
   "source": [
    "# Gerar nome dinâmico para o arquivo de log com timestamp\n",
    "timestamp = datetime.now().strftime('%Y-%m-%d_%H-%M-%S')\n",
    "log_dir = os.path.dirname(folder_logs_path)\n",
    "log_file_path = os.path.join(log_dir, f\"jira_creation_log_{timestamp}.log\")\n",
    "\n",
    "# Configuração de logging\n",
    "logger = setup_logging(log_file_path)\n",
    "logger.info(f\"Log gerado em: {datetime.now().strftime('%Y-%m-%d %H:%M:%S')}\")\n"
   ]
  },
  {
   "cell_type": "code",
   "execution_count": null,
   "metadata": {},
   "outputs": [],
   "source": [
    "# Conexão com o Jira\n",
    "options = {'server': JIRA_SERVER}\n",
    "jira = JIRA(options, basic_auth=(JIRA_USER, JIRA_TOKEN))"
   ]
  },
  {
   "cell_type": "code",
   "execution_count": null,
   "metadata": {},
   "outputs": [],
   "source": [
    "# Função para obter um EPIC existente\n",
    "def get_existing_epic(epic_name):\n",
    "    jql = f'project = {PROJECT_KEY} AND summary ~ \"{epic_name}\" AND issuetype = \"Epic\"'\n",
    "    existing_epics = jira.search_issues(jql)\n",
    "    return existing_epics[0] if existing_epics else None\n",
    "\n",
    "# Função para criar um EPIC\n",
    "def create_epic(epic_name):\n",
    "    existing_epic = get_existing_epic(epic_name)\n",
    "    if existing_epic:\n",
    "        logging.info(f\"EPIC '{epic_name}' já existe. Pulando criação.\")\n",
    "        return existing_epic\n",
    "    else:\n",
    "        issue_dict = {\n",
    "            'project': {'key': PROJECT_KEY},\n",
    "            'summary': epic_name,\n",
    "            'description': f\"EPIC criado automaticamente: {epic_name}\",\n",
    "            'issuetype': {'id': '10006'}  # ID do Epic\n",
    "        }\n",
    "        new_epic = jira.create_issue(fields=issue_dict)\n",
    "        logging.info(f\"EPIC '{epic_name}' criado com sucesso!\")\n",
    "        return new_epic\n"
   ]
  },
  {
   "cell_type": "code",
   "execution_count": null,
   "metadata": {},
   "outputs": [],
   "source": [
    "# Função para verificar se o card já existe\n",
    "def get_existing_card(summary):\n",
    "    jql = f'project = {PROJECT_KEY} AND summary ~ \"{summary}\" AND issuetype = \"10005\"'  # ID de \"Tarefa\"\n",
    "    existing_cards = jira.search_issues(jql)\n",
    "    return existing_cards[0] if existing_cards else None\n",
    "\n",
    "# Função para criar um card vinculado a um EPIC\n",
    "def create_card(epic, issue_name, duration):\n",
    "    existing_card = get_existing_card(issue_name)\n",
    "    if existing_card:\n",
    "        logging.info(f\"Card '{issue_name}' já existe. Pulando criação.\")\n",
    "        return existing_card\n",
    "    else:\n",
    "        issue_dict = {\n",
    "            'project': {'key': PROJECT_KEY},\n",
    "            'summary': issue_name,\n",
    "            'description': f\"Card criado automaticamente: {issue_name} ({duration})\",\n",
    "            'issuetype': {'id': '10005'},  # ID de \"Tarefa\"\n",
    "            'parent': {'key': epic.key}\n",
    "        }\n",
    "        new_card = jira.create_issue(fields=issue_dict)\n",
    "        logging.info(f\"Card '{issue_name}' criado com sucesso!\")\n",
    "        return new_card"
   ]
  },
  {
   "cell_type": "code",
   "execution_count": null,
   "metadata": {},
   "outputs": [],
   "source": [
    "# Leitura do arquivo CSV com pandas\n",
    "csv_file = os.path.join(folder_reports_path, 'project_specs_jira.csv')\n",
    "df = pd.read_csv(csv_file, delimiter=';')\n",
    "\n",
    "# Formatar todos os textos para MAIÚSCULAS\n",
    "df['EPIC Name'] = df['EPIC Name'].str.upper()\n",
    "df['Issue'] = df['Issue'].str.upper()\n",
    "df['Duration Issue'] = df['Duration Issue'].str.upper()\n"
   ]
  },
  {
   "cell_type": "code",
   "execution_count": null,
   "metadata": {},
   "outputs": [
    {
     "name": "stdout",
     "output_type": "stream",
     "text": [
      "Processo concluído com sucesso!\n"
     ]
    }
   ],
   "source": [
    "# Processar o CSV e criar EPICs e cards\n",
    "for _, row in df.iterrows():\n",
    "    epic_name = row['EPIC Name']\n",
    "    issue_name = row['Issue']\n",
    "    duration = row['Duration Issue']\n",
    "    \n",
    "    # Criação do EPIC\n",
    "    epic = create_epic(epic_name)\n",
    "    \n",
    "    # Criação do card\n",
    "    create_card(epic, issue_name, duration)\n",
    "\n",
    "logging.info(\"Processo concluído com sucesso!\")\n",
    "print(\"Processo concluído com sucesso!\")"
   ]
  }
 ],
 "metadata": {
  "kernelspec": {
   "display_name": "Python 3",
   "language": "python",
   "name": "python3"
  },
  "language_info": {
   "codemirror_mode": {
    "name": "ipython",
    "version": 3
   },
   "file_extension": ".py",
   "mimetype": "text/x-python",
   "name": "python",
   "nbconvert_exporter": "python",
   "pygments_lexer": "ipython3",
   "version": "3.13.2"
  }
 },
 "nbformat": 4,
 "nbformat_minor": 2
}
